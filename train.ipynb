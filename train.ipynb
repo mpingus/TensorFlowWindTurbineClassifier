{
 "cells": [
  {
   "cell_type": "code",
   "execution_count": 9,
   "metadata": {},
   "outputs": [],
   "source": [
    "import tensorflow as tf\n",
    "import pandas as pd\n",
    "import numpy as np\n",
    "from PIL import Image\n",
    "import os\n",
    "import re\n"
   ]
  },
  {
   "cell_type": "code",
   "execution_count": 20,
   "metadata": {},
   "outputs": [],
   "source": [
    "def create_dataset(path):\n",
    "    images = []\n",
    "    target = []\n",
    "    imagePaths = []\n",
    "    directory = os.listdir(path)\n",
    "    for direc in directory:\n",
    "        print(direc)\n",
    "        for file in os.listdir(os.path.join(path, direc)):\n",
    "\n",
    "            imagePath = os.path.join(path, direc, file)\n",
    "            image = np.array(Image.open(os.path.join(path, direc, file)))\n",
    "            images.append(image)\n",
    "            if re.search(\"target\", direc):\n",
    "                target.append(1)\n",
    "            else:\n",
    "                target.append(0)\n",
    "            imagePaths.append(imagePath)\n",
    "    print(\"Done\")\n",
    "\n",
    "    return pd.DataFrame({'imagePaths':imagePaths, 'images':images, 'target':target}, columns=['imagePath', 'images', 'label'])\n"
   ]
  },
  {
   "cell_type": "code",
   "execution_count": 21,
   "metadata": {},
   "outputs": [
    {
     "name": "stdout",
     "output_type": "stream",
     "text": [
      "background\n"
     ]
    }
   ],
   "source": [
    "dataset = create_dataset('C:/Users/milan/Documents/GitHub/Machine Learning Projects/Data/Wind-Turbine-Data/archive/val')\n",
    "dataset.head()"
   ]
  }
 ],
 "metadata": {
  "interpreter": {
   "hash": "135cbddb68efc53f09cf35bec5c95be7fe5d488116d478cb661d141533c8c762"
  },
  "kernelspec": {
   "display_name": "Python 3.9.12 ('WindTurbine')",
   "language": "python",
   "name": "python3"
  },
  "language_info": {
   "codemirror_mode": {
    "name": "ipython",
    "version": 3
   },
   "file_extension": ".py",
   "mimetype": "text/x-python",
   "name": "python",
   "nbconvert_exporter": "python",
   "pygments_lexer": "ipython3",
   "version": "3.9.12"
  },
  "orig_nbformat": 4
 },
 "nbformat": 4,
 "nbformat_minor": 2
}
