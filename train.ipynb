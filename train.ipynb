{
 "cells": [
  {
   "cell_type": "code",
   "execution_count": 1,
   "metadata": {},
   "outputs": [],
   "source": [
    "import tensorflow as tf\n",
    "import pandas as pd\n",
    "import numpy as np\n",
    "from PIL import Image\n",
    "import os\n",
    "import re\n",
    "import matplotlib.pyplot as plt\n",
    "import seaborn as sns\n",
    "import opendatasets as od"
   ]
  },
  {
   "cell_type": "markdown",
   "metadata": {},
   "source": [
    "Download Dataset"
   ]
  },
  {
   "cell_type": "code",
   "execution_count": 5,
   "metadata": {},
   "outputs": [],
   "source": [
    "def downloadDataSet():\n",
    "    url=\"https://www.kaggle.com/datasets/airbusgeo/airbus-wind-turbines-patches/download\"\n",
    "    od.download(url)"
   ]
  },
  {
   "cell_type": "markdown",
   "metadata": {},
   "source": [
    "Load Dataset"
   ]
  },
  {
   "cell_type": "code",
   "execution_count": 2,
   "metadata": {},
   "outputs": [],
   "source": [
    "def create_dataset(path):\n",
    "    images = []\n",
    "    target = []\n",
    "    imagePaths = []\n",
    "    directory = os.listdir(path)\n",
    "    for direc in directory:\n",
    "        print(direc)\n",
    "        for file in os.listdir(os.path.join(path, direc)):\n",
    "\n",
    "            imagePath = os.path.join(path, direc, file)\n",
    "            image = np.array(Image.open(os.path.join(path, direc, file)))\n",
    "            images.append(image)\n",
    "            if re.search(\"target\", direc):\n",
    "                target.append(1)\n",
    "            else:\n",
    "                target.append(0)\n",
    "            imagePaths.append(imagePath)\n",
    "    print(\"Done\")\n",
    "\n",
    "    return pd.DataFrame({'imagePaths':imagePaths, 'images':images, 'target':target}, columns=['imagePath', 'images', 'label'])\n"
   ]
  },
  {
   "cell_type": "code",
   "execution_count": 3,
   "metadata": {},
   "outputs": [
    {
     "name": "stdout",
     "output_type": "stream",
     "text": [
      "background\n",
      "target\n",
      "Done\n",
      "background\n",
      "target\n",
      "Done\n"
     ]
    },
    {
     "data": {
      "text/html": [
       "<div>\n",
       "<style scoped>\n",
       "    .dataframe tbody tr th:only-of-type {\n",
       "        vertical-align: middle;\n",
       "    }\n",
       "\n",
       "    .dataframe tbody tr th {\n",
       "        vertical-align: top;\n",
       "    }\n",
       "\n",
       "    .dataframe thead th {\n",
       "        text-align: right;\n",
       "    }\n",
       "</style>\n",
       "<table border=\"1\" class=\"dataframe\">\n",
       "  <thead>\n",
       "    <tr style=\"text-align: right;\">\n",
       "      <th></th>\n",
       "      <th>imagePath</th>\n",
       "      <th>images</th>\n",
       "      <th>label</th>\n",
       "    </tr>\n",
       "  </thead>\n",
       "  <tbody>\n",
       "    <tr>\n",
       "      <th>0</th>\n",
       "      <td>NaN</td>\n",
       "      <td>[[[138, 109, 65], [139, 110, 66], [140, 111, 6...</td>\n",
       "      <td>NaN</td>\n",
       "    </tr>\n",
       "    <tr>\n",
       "      <th>1</th>\n",
       "      <td>NaN</td>\n",
       "      <td>[[[126, 95, 64], [131, 100, 69], [132, 101, 70...</td>\n",
       "      <td>NaN</td>\n",
       "    </tr>\n",
       "    <tr>\n",
       "      <th>2</th>\n",
       "      <td>NaN</td>\n",
       "      <td>[[[47, 68, 37], [48, 69, 38], [48, 69, 38], [4...</td>\n",
       "      <td>NaN</td>\n",
       "    </tr>\n",
       "    <tr>\n",
       "      <th>3</th>\n",
       "      <td>NaN</td>\n",
       "      <td>[[[39, 57, 33], [40, 58, 34], [40, 58, 34], [4...</td>\n",
       "      <td>NaN</td>\n",
       "    </tr>\n",
       "    <tr>\n",
       "      <th>4</th>\n",
       "      <td>NaN</td>\n",
       "      <td>[[[43, 74, 43], [44, 75, 44], [45, 76, 45], [4...</td>\n",
       "      <td>NaN</td>\n",
       "    </tr>\n",
       "  </tbody>\n",
       "</table>\n",
       "</div>"
      ],
      "text/plain": [
       "  imagePath                                             images label\n",
       "0       NaN  [[[138, 109, 65], [139, 110, 66], [140, 111, 6...   NaN\n",
       "1       NaN  [[[126, 95, 64], [131, 100, 69], [132, 101, 70...   NaN\n",
       "2       NaN  [[[47, 68, 37], [48, 69, 38], [48, 69, 38], [4...   NaN\n",
       "3       NaN  [[[39, 57, 33], [40, 58, 34], [40, 58, 34], [4...   NaN\n",
       "4       NaN  [[[43, 74, 43], [44, 75, 44], [45, 76, 45], [4...   NaN"
      ]
     },
     "execution_count": 3,
     "metadata": {},
     "output_type": "execute_result"
    }
   ],
   "source": [
    "dataset_train = create_dataset('C:/Users/milan/Documents/GitHub/Machine Learning Projects/Data/Wind-Turbine-Data/archive/train')\n",
    "dataset_train.head()\n",
    "\n",
    "dataset_eval = create_dataset(\"C:/Users/milan/Documents/GitHub/Machine Learning Projects/Data/Wind-Turbine-Data/archive/val\")\n",
    "dataset_eval.head()"
   ]
  },
  {
   "cell_type": "code",
   "execution_count": null,
   "metadata": {},
   "outputs": [],
   "source": [
    "# sample 100 target images from the train dataset\n",
    "sampled = dataset_train.sample(100)\n",
    "\n",
    "# retrieve the corresponding filenames\n",
    "files = [ i for i in sampled['filename'] ]\n",
    "\n",
    "# make a patchwork\n",
    "patchwork = makePatchwork(files, 10, 10)\n",
    "\n",
    "# display it inline\n",
    "plt.figure(figsize=(20,20))\n",
    "plt.axis('off')\n",
    "plt.imshow(patchwork)\n",
    "\n",
    "# save the image\n",
    "patchwork.save('targets_sampled.jpg')  "
   ]
  },
  {
   "cell_type": "markdown",
   "metadata": {},
   "source": [
    "Data Analysis"
   ]
  },
  {
   "cell_type": "code",
   "execution_count": 20,
   "metadata": {},
   "outputs": [],
   "source": [
    "number_classes = {\n",
    "'Windturbine_TRAIN': len(os.listdir(os.path.join(p_train, p_target))),\n",
    "'Background_TRAIN' : len(os.listdir(os.path.join(p_train, p_background))),\n",
    "'Windturbine_EVAL' : len(os.listdir(os.path.join(p_eval, p_target))),\n",
    "'Background_EVAL'  : len(os.listdir(os.path.join(p_eval, p_background))),\n",
    "}"
   ]
  },
  {
   "cell_type": "code",
   "execution_count": 19,
   "metadata": {},
   "outputs": [
    {
     "data": {
      "image/png": "[encoded data removed]",
      "text/plain": [
       "<Figure size 432x288 with 1 Axes>"
      ]
     },
     "metadata": {
      "needs_background": "light"
     },
     "output_type": "display_data"
    }
   ],
   "source": [
    "keys = list(number_classes.keys())\n",
    "values = list(number_classes.values())\n",
    "ax = sns.barplot(x=keys, y=values)\n",
    "ax.set_xticklabels(ax.get_xticklabels(), rotation=40, ha=\"right\")\n",
    "plt.tight_layout()\n",
    "plt.show()"
   ]
  },
  {
   "cell_type": "code",
   "execution_count": null,
   "metadata": {},
   "outputs": [],
   "source": [
    "for n,d in directories.items():\n",
    "filepath = d\n",
    "filelist = [filepath + f for f in os.listdir(filepath)]\n",
    "dims = bag.from_sequence(filelist).map(get_dims)\n",
    "with diagnostics.ProgressBar():\n",
    "dims = dims.compute()\n",
    "dim_df = pd.DataFrame(dims, columns=['height', 'width'])\n",
    "sizes = dim_df.groupby(['height', 'width']).size().reset_index().rename(columns={0:'count'})\n",
    "sizes.plot.scatter(x='width', y='height');\n",
    "plt.title('Image Sizes (pixels) | {}'.format(n))"
   ]
  },
  {
   "cell_type": "code",
   "execution_count": null,
   "metadata": {},
   "outputs": [],
   "source": [
    "directories = {'Class_0': 'data/Class_0/',\n",
    "'Class_1': 'data/Class_1/',\n",
    "'Class_2': 'data/Class_2/',\n",
    "'Class_3': 'data/Class_3/'}\n",
    "\n",
    "def get_dims(file):\n",
    "'''Returns dimenstions for an RBG image'''\n",
    "im = Image.open(file)\n",
    "arr = np.array(im)\n",
    "h,w,d = arr.shape\n",
    "return h,w"
   ]
  },
  {
   "cell_type": "code",
   "execution_count": null,
   "metadata": {},
   "outputs": [],
   "source": []
  }
 ],
 "metadata": {
  "interpreter": {
   "hash": "135cbddb68efc53f09cf35bec5c95be7fe5d488116d478cb661d141533c8c762"
  },
  "kernelspec": {
   "display_name": "Python 3 (ipykernel)",
   "language": "python",
   "name": "python3"
  },
  "language_info": {
   "codemirror_mode": {
    "name": "ipython",
    "version": 3
   },
   "file_extension": ".py",
   "mimetype": "text/x-python",
   "name": "python",
   "nbconvert_exporter": "python",
   "pygments_lexer": "ipython3",
   "version": "3.9.12"
  },
  "orig_nbformat": 4
 },
 "nbformat": 4,
 "nbformat_minor": 2
}
